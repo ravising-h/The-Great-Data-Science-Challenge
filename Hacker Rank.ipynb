{
 "cells": [
  {
   "cell_type": "markdown",
   "metadata": {},
   "source": [
    "### Importing Important Library"
   ]
  },
  {
   "cell_type": "code",
   "execution_count": 1,
   "metadata": {},
   "outputs": [
    {
     "name": "stdout",
     "output_type": "stream",
     "text": [
      "Requirement already satisfied: nltk in /home/ravisingh/anaconda3/lib/python3.7/site-packages (3.4.4)\n",
      "Requirement already satisfied: six in /home/ravisingh/anaconda3/lib/python3.7/site-packages (from nltk) (1.12.0)\n"
     ]
    },
    {
     "data": {
      "text/plain": [
       "0"
      ]
     },
     "execution_count": 1,
     "metadata": {},
     "output_type": "execute_result"
    }
   ],
   "source": [
    "from pip._internal import main\n",
    "main([\"install\",\"nltk\"])\n"
   ]
  },
  {
   "cell_type": "code",
   "execution_count": 2,
   "metadata": {},
   "outputs": [
    {
     "name": "stderr",
     "output_type": "stream",
     "text": [
      "Using TensorFlow backend.\n"
     ]
    }
   ],
   "source": [
    "import pandas as pd\n",
    "import numpy as np\n",
    "import matplotlib.pyplot as plt\n",
    "from IPython.display import IFrame\n",
    "import re\n",
    "from random import shuffle\n",
    "import seaborn as sns\n",
    "from sklearn.metrics import precision_score, recall_score, confusion_matrix, classification_report, accuracy_score, f1_score\n",
    "from nltk.tokenize import word_tokenize\n",
    "from xgboost import XGBClassifier\n",
    "from sklearn.ensemble import RandomForestClassifier\n",
    "from sklearn.model_selection import train_test_split\n",
    "from sklearn.metrics import accuracy_score\n",
    "from sklearn.metrics import confusion_matrix\n",
    "from imblearn.over_sampling import SMOTE\n",
    "\n",
    "%matplotlib inline"
   ]
  },
  {
   "cell_type": "markdown",
   "metadata": {},
   "source": [
    "### Importing Dataset"
   ]
  },
  {
   "cell_type": "code",
   "execution_count": 77,
   "metadata": {},
   "outputs": [],
   "source": [
    "train_csv = pd.read_csv('data/Train.csv')\n",
    "test_csv = pd.read_csv('data/Test.csv')"
   ]
  },
  {
   "cell_type": "markdown",
   "metadata": {},
   "source": [
    "### Having a look at Dataset"
   ]
  },
  {
   "cell_type": "code",
   "execution_count": 78,
   "metadata": {},
   "outputs": [
    {
     "data": {
      "text/html": [
       "<div>\n",
       "<style scoped>\n",
       "    .dataframe tbody tr th:only-of-type {\n",
       "        vertical-align: middle;\n",
       "    }\n",
       "\n",
       "    .dataframe tbody tr th {\n",
       "        vertical-align: top;\n",
       "    }\n",
       "\n",
       "    .dataframe thead th {\n",
       "        text-align: right;\n",
       "    }\n",
       "</style>\n",
       "<table border=\"1\" class=\"dataframe\">\n",
       "  <thead>\n",
       "    <tr style=\"text-align: right;\">\n",
       "      <th></th>\n",
       "      <th>Inv_Id</th>\n",
       "      <th>Vendor_Code</th>\n",
       "      <th>GL_Code</th>\n",
       "      <th>Inv_Amt</th>\n",
       "      <th>Item_Description</th>\n",
       "      <th>Product_Category</th>\n",
       "    </tr>\n",
       "  </thead>\n",
       "  <tbody>\n",
       "    <tr>\n",
       "      <th>0</th>\n",
       "      <td>15001</td>\n",
       "      <td>VENDOR-1676</td>\n",
       "      <td>GL-6100410</td>\n",
       "      <td>83.24</td>\n",
       "      <td>Artworking/Typesetting Production Jun 2009 Cha...</td>\n",
       "      <td>CLASS-1963</td>\n",
       "    </tr>\n",
       "    <tr>\n",
       "      <th>1</th>\n",
       "      <td>15002</td>\n",
       "      <td>VENDOR-1883</td>\n",
       "      <td>GL-2182000</td>\n",
       "      <td>51.18</td>\n",
       "      <td>Auto Leasing Corporate Services Corning Inc /N...</td>\n",
       "      <td>CLASS-1250</td>\n",
       "    </tr>\n",
       "    <tr>\n",
       "      <th>2</th>\n",
       "      <td>15004</td>\n",
       "      <td>VENDOR-1999</td>\n",
       "      <td>GL-6050100</td>\n",
       "      <td>79.02</td>\n",
       "      <td>Store Management Lease/Rent Deltona Corp Real ...</td>\n",
       "      <td>CLASS-1274</td>\n",
       "    </tr>\n",
       "    <tr>\n",
       "      <th>3</th>\n",
       "      <td>15005</td>\n",
       "      <td>VENDOR-1771</td>\n",
       "      <td>GL-6101400</td>\n",
       "      <td>48.50</td>\n",
       "      <td>Store Construction General Requirements Coloni...</td>\n",
       "      <td>CLASS-1522</td>\n",
       "    </tr>\n",
       "    <tr>\n",
       "      <th>4</th>\n",
       "      <td>15006</td>\n",
       "      <td>VENDOR-1331</td>\n",
       "      <td>GL-2182000</td>\n",
       "      <td>63.35</td>\n",
       "      <td>Jul 2015 Aydin Corp Contingent Labor/Temp Labo...</td>\n",
       "      <td>CLASS-1376</td>\n",
       "    </tr>\n",
       "  </tbody>\n",
       "</table>\n",
       "</div>"
      ],
      "text/plain": [
       "   Inv_Id  Vendor_Code     GL_Code  Inv_Amt  \\\n",
       "0   15001  VENDOR-1676  GL-6100410    83.24   \n",
       "1   15002  VENDOR-1883  GL-2182000    51.18   \n",
       "2   15004  VENDOR-1999  GL-6050100    79.02   \n",
       "3   15005  VENDOR-1771  GL-6101400    48.50   \n",
       "4   15006  VENDOR-1331  GL-2182000    63.35   \n",
       "\n",
       "                                    Item_Description Product_Category  \n",
       "0  Artworking/Typesetting Production Jun 2009 Cha...       CLASS-1963  \n",
       "1  Auto Leasing Corporate Services Corning Inc /N...       CLASS-1250  \n",
       "2  Store Management Lease/Rent Deltona Corp Real ...       CLASS-1274  \n",
       "3  Store Construction General Requirements Coloni...       CLASS-1522  \n",
       "4  Jul 2015 Aydin Corp Contingent Labor/Temp Labo...       CLASS-1376  "
      ]
     },
     "execution_count": 78,
     "metadata": {},
     "output_type": "execute_result"
    }
   ],
   "source": [
    "train_csv.head()"
   ]
  },
  {
   "cell_type": "code",
   "execution_count": 79,
   "metadata": {},
   "outputs": [
    {
     "data": {
      "text/html": [
       "<div>\n",
       "<style scoped>\n",
       "    .dataframe tbody tr th:only-of-type {\n",
       "        vertical-align: middle;\n",
       "    }\n",
       "\n",
       "    .dataframe tbody tr th {\n",
       "        vertical-align: top;\n",
       "    }\n",
       "\n",
       "    .dataframe thead th {\n",
       "        text-align: right;\n",
       "    }\n",
       "</style>\n",
       "<table border=\"1\" class=\"dataframe\">\n",
       "  <thead>\n",
       "    <tr style=\"text-align: right;\">\n",
       "      <th></th>\n",
       "      <th>Inv_Id</th>\n",
       "      <th>Vendor_Code</th>\n",
       "      <th>GL_Code</th>\n",
       "      <th>Inv_Amt</th>\n",
       "      <th>Item_Description</th>\n",
       "    </tr>\n",
       "  </thead>\n",
       "  <tbody>\n",
       "    <tr>\n",
       "      <th>0</th>\n",
       "      <td>15003</td>\n",
       "      <td>VENDOR-2513</td>\n",
       "      <td>GL-6050310</td>\n",
       "      <td>56.13</td>\n",
       "      <td>Travel and Entertainment Miscellaneous Company...</td>\n",
       "    </tr>\n",
       "    <tr>\n",
       "      <th>1</th>\n",
       "      <td>15008</td>\n",
       "      <td>VENDOR-1044</td>\n",
       "      <td>GL-6101400</td>\n",
       "      <td>96.56</td>\n",
       "      <td>Final Site Clean Up Store Construction Advance...</td>\n",
       "    </tr>\n",
       "    <tr>\n",
       "      <th>2</th>\n",
       "      <td>15013</td>\n",
       "      <td>VENDOR-1254</td>\n",
       "      <td>GL-6101400</td>\n",
       "      <td>55.93</td>\n",
       "      <td>Arabian American Development Co Final Site Cle...</td>\n",
       "    </tr>\n",
       "    <tr>\n",
       "      <th>3</th>\n",
       "      <td>15019</td>\n",
       "      <td>VENDOR-1331</td>\n",
       "      <td>GL-2182000</td>\n",
       "      <td>32.62</td>\n",
       "      <td>Corporate Services Contingent Labor/Temp Labor...</td>\n",
       "    </tr>\n",
       "    <tr>\n",
       "      <th>4</th>\n",
       "      <td>15020</td>\n",
       "      <td>VENDOR-2513</td>\n",
       "      <td>GL-6050310</td>\n",
       "      <td>25.81</td>\n",
       "      <td>Fortune National Corp Miscellaneous Company Ca...</td>\n",
       "    </tr>\n",
       "  </tbody>\n",
       "</table>\n",
       "</div>"
      ],
      "text/plain": [
       "   Inv_Id  Vendor_Code     GL_Code  Inv_Amt  \\\n",
       "0   15003  VENDOR-2513  GL-6050310    56.13   \n",
       "1   15008  VENDOR-1044  GL-6101400    96.56   \n",
       "2   15013  VENDOR-1254  GL-6101400    55.93   \n",
       "3   15019  VENDOR-1331  GL-2182000    32.62   \n",
       "4   15020  VENDOR-2513  GL-6050310    25.81   \n",
       "\n",
       "                                    Item_Description  \n",
       "0  Travel and Entertainment Miscellaneous Company...  \n",
       "1  Final Site Clean Up Store Construction Advance...  \n",
       "2  Arabian American Development Co Final Site Cle...  \n",
       "3  Corporate Services Contingent Labor/Temp Labor...  \n",
       "4  Fortune National Corp Miscellaneous Company Ca...  "
      ]
     },
     "execution_count": 79,
     "metadata": {},
     "output_type": "execute_result"
    }
   ],
   "source": [
    "test_csv.head()"
   ]
  },
  {
   "cell_type": "code",
   "execution_count": 80,
   "metadata": {},
   "outputs": [
    {
     "data": {
      "text/html": [
       "<div>\n",
       "<style scoped>\n",
       "    .dataframe tbody tr th:only-of-type {\n",
       "        vertical-align: middle;\n",
       "    }\n",
       "\n",
       "    .dataframe tbody tr th {\n",
       "        vertical-align: top;\n",
       "    }\n",
       "\n",
       "    .dataframe thead th {\n",
       "        text-align: right;\n",
       "    }\n",
       "</style>\n",
       "<table border=\"1\" class=\"dataframe\">\n",
       "  <thead>\n",
       "    <tr style=\"text-align: right;\">\n",
       "      <th></th>\n",
       "      <th>Inv_Id</th>\n",
       "      <th>Inv_Amt</th>\n",
       "    </tr>\n",
       "  </thead>\n",
       "  <tbody>\n",
       "    <tr>\n",
       "      <th>count</th>\n",
       "      <td>5566.000000</td>\n",
       "      <td>5566.000000</td>\n",
       "    </tr>\n",
       "    <tr>\n",
       "      <th>mean</th>\n",
       "      <td>19010.787100</td>\n",
       "      <td>49.980151</td>\n",
       "    </tr>\n",
       "    <tr>\n",
       "      <th>std</th>\n",
       "      <td>2306.607485</td>\n",
       "      <td>28.903030</td>\n",
       "    </tr>\n",
       "    <tr>\n",
       "      <th>min</th>\n",
       "      <td>15001.000000</td>\n",
       "      <td>0.010000</td>\n",
       "    </tr>\n",
       "    <tr>\n",
       "      <th>25%</th>\n",
       "      <td>17006.250000</td>\n",
       "      <td>24.957500</td>\n",
       "    </tr>\n",
       "    <tr>\n",
       "      <th>50%</th>\n",
       "      <td>19017.500000</td>\n",
       "      <td>49.645000</td>\n",
       "    </tr>\n",
       "    <tr>\n",
       "      <th>75%</th>\n",
       "      <td>20994.750000</td>\n",
       "      <td>75.170000</td>\n",
       "    </tr>\n",
       "    <tr>\n",
       "      <th>max</th>\n",
       "      <td>23012.000000</td>\n",
       "      <td>99.990000</td>\n",
       "    </tr>\n",
       "  </tbody>\n",
       "</table>\n",
       "</div>"
      ],
      "text/plain": [
       "             Inv_Id      Inv_Amt\n",
       "count   5566.000000  5566.000000\n",
       "mean   19010.787100    49.980151\n",
       "std     2306.607485    28.903030\n",
       "min    15001.000000     0.010000\n",
       "25%    17006.250000    24.957500\n",
       "50%    19017.500000    49.645000\n",
       "75%    20994.750000    75.170000\n",
       "max    23012.000000    99.990000"
      ]
     },
     "execution_count": 80,
     "metadata": {},
     "output_type": "execute_result"
    }
   ],
   "source": [
    "train_csv.describe()"
   ]
  },
  {
   "cell_type": "code",
   "execution_count": 81,
   "metadata": {},
   "outputs": [
    {
     "name": "stdout",
     "output_type": "stream",
     "text": [
      "<class 'pandas.core.frame.DataFrame'>\n",
      "RangeIndex: 5566 entries, 0 to 5565\n",
      "Data columns (total 6 columns):\n",
      "Inv_Id              5566 non-null int64\n",
      "Vendor_Code         5566 non-null object\n",
      "GL_Code             5566 non-null object\n",
      "Inv_Amt             5566 non-null float64\n",
      "Item_Description    5566 non-null object\n",
      "Product_Category    5566 non-null object\n",
      "dtypes: float64(1), int64(1), object(4)\n",
      "memory usage: 261.0+ KB\n",
      "None\n",
      "<class 'pandas.core.frame.DataFrame'>\n",
      "RangeIndex: 2446 entries, 0 to 2445\n",
      "Data columns (total 5 columns):\n",
      "Inv_Id              2446 non-null int64\n",
      "Vendor_Code         2446 non-null object\n",
      "GL_Code             2446 non-null object\n",
      "Inv_Amt             2446 non-null float64\n",
      "Item_Description    2446 non-null object\n",
      "dtypes: float64(1), int64(1), object(3)\n",
      "memory usage: 95.6+ KB\n",
      "None\n"
     ]
    }
   ],
   "source": [
    "print(train_csv.info())\n",
    "print(test_csv.info())"
   ]
  },
  {
   "cell_type": "markdown",
   "metadata": {},
   "source": [
    "## Understanding Data\n",
    "description with same motive come under same category for example\n",
    "\n",
    "We can see that all rent and Lease product come under class Id 1274\n",
    "\n",
    "*  Base Rent May2016 Store Management Compuserve Corp Real Estate Lease/Rent | class id is 1274.\n",
    "*  Store Management Lease/Rent Advance Ross Corp Real Estate Base Rent 2011-Sep  | class id is 1274.\n",
    "*  Real Estate Lease/Rent Base Rent Bancwest Corp/Hi 2011-May  Store Management | class id is 1274.\n"
   ]
  },
  {
   "cell_type": "markdown",
   "metadata": {},
   "source": [
    "## Def all the function."
   ]
  },
  {
   "cell_type": "code",
   "execution_count": 82,
   "metadata": {},
   "outputs": [],
   "source": [
    "def adding_word_to_vocab(csv,col,vocabulary = set(),max_ = 28):\n",
    "    ## ADDING WORD TO VOCAB FROM DATASET AND FINDING MAXIMUM LENGHT OF A SENTENCE.\n",
    "    descrip = []\n",
    "    for index in range(csv.shape[0]):\n",
    "        descrip.append(csv.iloc[index,col].lower())\n",
    "        word_token = word_tokenize(csv.iloc[index,col].lower())\n",
    "        vocabulary |= set(word_token)\n",
    "    return descrip,vocabulary,max_\n",
    "\n",
    "\n",
    "def indexing_words(vocabulary, vocab_to_idx =  {}, idx_to_vocab = {}):\n",
    "    ### WORDS TO INDEX\n",
    "    ### INDEX TO WORDS\n",
    "    ### EXAMPLE\n",
    "    ### WORDS TO INDEX = {'IS' : 4,'THE': 6}\n",
    "    ### INDEX TO WORDS = {4: 'IS', 6 : 'THE'}\n",
    "    for i in range(1,len(vocabulary)+1):\n",
    "        vocab_to_idx[list(vocabulary)[i-1]] = i\n",
    "        idx_to_vocab[i] = list(vocabulary)[i-1]\n",
    "    \n",
    "    return idx_to_vocab, vocab_to_idx\n",
    "\n",
    "def changing_description(descrip,vocab_to_idx,csv,max_):\n",
    "    _id = np.zeros((csv.shape[0],max_))\n",
    "    for i in range(len(descrip)):\n",
    "        for j,u in zip(word_tokenize(descrip[i]),range(len(word_tokenize(descrip[i])))):\n",
    "            _id[i,u] = vocab_to_idx[j]\n",
    "    return _id"
   ]
  },
  {
   "cell_type": "code",
   "execution_count": 83,
   "metadata": {},
   "outputs": [],
   "source": [
    "def Item_desc_preprocessing(train_csv,test_csv,col):\n",
    "    \n",
    "    '''\n",
    "    BUILDING VOCABULARY \n",
    "    INDEXING EVERY WORD IN VOCABULARY (assigning every a word a number)\n",
    "    CHANGING ITEM_DESCRIPTON OF TRAINING DATA AND TEST DATA INTO NUMBER BY INDEXING\n",
    "    '''\n",
    "\n",
    "    \n",
    "    ## ADDING WORD TO VOCAB FROM TRAIN DATASET.\n",
    "    train_descrip, vocabulary,max_ = adding_word_to_vocab(train_csv,col)\n",
    "    \n",
    "    ## ADDING WORD TO VOCAB FROM TEST DATASET.\n",
    "    test_descrip,vocabulary, max_ = adding_word_to_vocab(test_csv, col ,vocabulary,max_)\n",
    "    \n",
    "    ### CHANGING WORD TO NUMERIC AND NUMRIC TO WORD\n",
    "    idx_to_vocab, vocab_to_idx = indexing_words(vocabulary)\n",
    "    \n",
    "    ### CHANGING TRAIN DESCRIPTION TO NUMERIC\n",
    "    train_id = changing_description(train_descrip,vocab_to_idx,train_csv,max_)\n",
    "    \n",
    "    ### CHANGING TEST DESCRIPTION TO NUMERIC\n",
    "    test_id = changing_description(test_descrip,vocab_to_idx,test_csv,max_)\n",
    "    \n",
    "    return list(vocabulary), max_,[train_descrip,test_descrip], [vocab_to_idx, idx_to_vocab], [train_id,test_id]"
   ]
  },
  {
   "cell_type": "code",
   "execution_count": 84,
   "metadata": {},
   "outputs": [],
   "source": [
    "def get_label(train_csv, one_hot = True):\n",
    "    '''\n",
    "    CHANGING LABEL FROM CLASS-XXXX TO A NUMBER\n",
    "    OHE HOT ENCODING OF DATA\n",
    "    '''\n",
    "   \n",
    "    no_of_label = np.unique(np.array([ train_csv.iloc[i,-1] for i in range(train_csv.shape[0])]))\n",
    "    label = np.zeros((train_csv.shape[0]))\n",
    "\n",
    "    OHE_label = np.zeros((train_csv.shape[0],no_of_label.shape[0]))\n",
    "    labels = {}\n",
    "    \n",
    "    for i in range(no_of_label.shape[0]):\n",
    "        labels[no_of_label[i]] = i\n",
    "   \n",
    "    for index in range(train_csv.shape[0]):\n",
    "        \n",
    "        label[index] = labels[train_csv.iloc[index,-1]]\n",
    "        \n",
    "        OHE_of_label = np.zeros((no_of_label.shape[0]))\n",
    "        OHE_of_label[int(label[index])] = 1\n",
    "        OHE_label[index] = OHE_of_label\n",
    "    \n",
    "    if one_hot == True:\n",
    "        return label ,OHE_label,labels\n",
    "    if one_hot == False:\n",
    "        return label,labels "
   ]
  },
  {
   "cell_type": "code",
   "execution_count": 85,
   "metadata": {},
   "outputs": [],
   "source": [
    "def acc(y_test,prediction):\n",
    "\n",
    "\n",
    "    cm = confusion_matrix(y_test, prediction)\n",
    "    recall = np.diag(cm) / np.sum(cm, axis = 1)\n",
    "    precision = np.diag(cm) / np.sum(cm, axis = 0)\n",
    "    \n",
    "    #print ('Recall:', recall)\n",
    "    #print ('Precision:', precision)\n",
    "    print ('\\n clasification report:\\n', classification_report(y_test,prediction))\n",
    "    #print ('\\n confussion matrix:\\n',confusion_matrix(y_test, prediction))]\n",
    "    ax = sns.heatmap(confusion_matrix(y_test, prediction),linewidths= 0.5,cmap=\"YlGnBu\")"
   ]
  },
  {
   "cell_type": "code",
   "execution_count": 86,
   "metadata": {},
   "outputs": [],
   "source": [
    "def plot_distribution(label,l,in_numeric = 0,get_plot = True,get_return = False):\n",
    "    no_of_class = 36\n",
    "    label = np.array(label)\n",
    "    print(label.shape)\n",
    "    classes = {}\n",
    "    if get_plot == True:\n",
    "        sns.set(color_codes=True)\n",
    "        sns.distplot(l,label = 'LABELS',kde=False\n",
    "                     ,color='red',norm_hist=False,rug=False);\n",
    "    \n",
    "    if in_numeric > 0:\n",
    "        uni, count = np.unique(label,return_counts= True)\n",
    "        print(\"max is:\",max(count),\" min is: \",min(count))\n",
    "        for clas in range(count.shape[0]):\n",
    "            classes[str(uni[clas])] = count[clas]\n",
    "    if get_return == True:\n",
    "        return classes"
   ]
  },
  {
   "cell_type": "code",
   "execution_count": 112,
   "metadata": {},
   "outputs": [],
   "source": [
    "def getting_submission_file(file_name,y):   \n",
    "    ### CONVERTING BACK TO CLASS- XXXX\n",
    "    Inv_ID = np.arange(1,y.shape[1]+1, dtype = 'int64').reshape(y.shape)\n",
    "    con = np.concatenate((Inv_ID,y))\n",
    "    pd.DataFrame(con).to_csv(file_name)"
   ]
  },
  {
   "cell_type": "code",
   "execution_count": 88,
   "metadata": {},
   "outputs": [],
   "source": [
    "def conv_label(label_conv):\n",
    "    key = list(label_conv.keys())\n",
    "    value = list(label_conv.values())\n",
    "    label_conversion = {}\n",
    "    for i in range(len(key)):\n",
    "        label_conversion[value[i]] = key[i]\n",
    "    return label_conversion  "
   ]
  },
  {
   "cell_type": "markdown",
   "metadata": {},
   "source": [
    "## Processing Data"
   ]
  },
  {
   "cell_type": "code",
   "execution_count": 146,
   "metadata": {},
   "outputs": [
    {
     "data": {
      "text/plain": [
       "(2916, 28, 2, 2, (5566, 28), (2446, 28))"
      ]
     },
     "execution_count": 146,
     "metadata": {},
     "output_type": "execute_result"
    }
   ],
   "source": [
    "vocabulary, maxi_desc , descriptions, word_change , desc_idx = Item_desc_preprocessing(train_csv,test_csv,4)\n",
    "len(vocabulary), maxi_desc, len(descriptions),len(word_change),desc_idx[0].shape, desc_idx[1].shape"
   ]
  },
  {
   "cell_type": "code",
   "execution_count": 147,
   "metadata": {},
   "outputs": [],
   "source": [
    "label , OHE, label_conv= get_label(train_csv)"
   ]
  },
  {
   "cell_type": "code",
   "execution_count": 148,
   "metadata": {},
   "outputs": [
    {
     "name": "stdout",
     "output_type": "stream",
     "text": [
      "distribution of overall dataset:\n",
      "(5566,)\n",
      "max is: 1498  min is:  1\n"
     ]
    },
    {
     "data": {
      "text/plain": [
       "{'CLASS-1248': 5,\n",
       " 'CLASS-1249': 176,\n",
       " 'CLASS-1250': 451,\n",
       " 'CLASS-1274': 986,\n",
       " 'CLASS-1294': 25,\n",
       " 'CLASS-1309': 32,\n",
       " 'CLASS-1322': 28,\n",
       " 'CLASS-1376': 365,\n",
       " 'CLASS-1429': 32,\n",
       " 'CLASS-1477': 50,\n",
       " 'CLASS-1522': 851,\n",
       " 'CLASS-1567': 84,\n",
       " 'CLASS-1652': 15,\n",
       " 'CLASS-1688': 4,\n",
       " 'CLASS-1721': 107,\n",
       " 'CLASS-1758': 1498,\n",
       " 'CLASS-1770': 19,\n",
       " 'CLASS-1805': 12,\n",
       " 'CLASS-1828': 113,\n",
       " 'CLASS-1838': 1,\n",
       " 'CLASS-1850': 60,\n",
       " 'CLASS-1867': 15,\n",
       " 'CLASS-1870': 36,\n",
       " 'CLASS-1919': 70,\n",
       " 'CLASS-1957': 1,\n",
       " 'CLASS-1963': 230,\n",
       " 'CLASS-1964': 28,\n",
       " 'CLASS-1983': 17,\n",
       " 'CLASS-2003': 32,\n",
       " 'CLASS-2015': 2,\n",
       " 'CLASS-2038': 13,\n",
       " 'CLASS-2112': 53,\n",
       " 'CLASS-2141': 108,\n",
       " 'CLASS-2146': 2,\n",
       " 'CLASS-2152': 9,\n",
       " 'CLASS-2241': 36}"
      ]
     },
     "execution_count": 148,
     "metadata": {},
     "output_type": "execute_result"
    },
    {
     "data": {
      "image/png": "[encoded data removed]",
      "text/plain": [
       "<Figure size 432x288 with 1 Axes>"
      ]
     },
     "metadata": {},
     "output_type": "display_data"
    }
   ],
   "source": [
    "print(\"distribution of overall dataset:\")\n",
    "plot_distribution(train_csv.iloc[:,-1],label,in_numeric=2,get_return = True)"
   ]
  },
  {
   "cell_type": "code",
   "execution_count": 149,
   "metadata": {},
   "outputs": [
    {
     "data": {
      "text/plain": [
       "(array([25.,  2.,  3., ..., 14., 12., 15.]),\n",
       " array([[0., 0., 0., ..., 0., 0., 0.],\n",
       "        [0., 0., 1., ..., 0., 0., 0.],\n",
       "        [0., 0., 0., ..., 0., 0., 0.],\n",
       "        ...,\n",
       "        [0., 0., 0., ..., 0., 0., 0.],\n",
       "        [0., 0., 0., ..., 0., 0., 0.],\n",
       "        [0., 0., 0., ..., 0., 0., 0.]]))"
      ]
     },
     "execution_count": 149,
     "metadata": {},
     "output_type": "execute_result"
    }
   ],
   "source": [
    "label,OHE"
   ]
  },
  {
   "cell_type": "code",
   "execution_count": 150,
   "metadata": {},
   "outputs": [
    {
     "data": {
      "text/plain": [
       "{0: 'CLASS-1248',\n",
       " 1: 'CLASS-1249',\n",
       " 2: 'CLASS-1250',\n",
       " 3: 'CLASS-1274',\n",
       " 4: 'CLASS-1294',\n",
       " 5: 'CLASS-1309',\n",
       " 6: 'CLASS-1322',\n",
       " 7: 'CLASS-1376',\n",
       " 8: 'CLASS-1429',\n",
       " 9: 'CLASS-1477',\n",
       " 10: 'CLASS-1522',\n",
       " 11: 'CLASS-1567',\n",
       " 12: 'CLASS-1652',\n",
       " 13: 'CLASS-1688',\n",
       " 14: 'CLASS-1721',\n",
       " 15: 'CLASS-1758',\n",
       " 16: 'CLASS-1770',\n",
       " 17: 'CLASS-1805',\n",
       " 18: 'CLASS-1828',\n",
       " 19: 'CLASS-1838',\n",
       " 20: 'CLASS-1850',\n",
       " 21: 'CLASS-1867',\n",
       " 22: 'CLASS-1870',\n",
       " 23: 'CLASS-1919',\n",
       " 24: 'CLASS-1957',\n",
       " 25: 'CLASS-1963',\n",
       " 26: 'CLASS-1964',\n",
       " 27: 'CLASS-1983',\n",
       " 28: 'CLASS-2003',\n",
       " 29: 'CLASS-2015',\n",
       " 30: 'CLASS-2038',\n",
       " 31: 'CLASS-2112',\n",
       " 32: 'CLASS-2141',\n",
       " 33: 'CLASS-2146',\n",
       " 34: 'CLASS-2152',\n",
       " 35: 'CLASS-2241'}"
      ]
     },
     "execution_count": 150,
     "metadata": {},
     "output_type": "execute_result"
    }
   ],
   "source": [
    "label_conversion = conv_label(label_conv)\n",
    "label_conversion"
   ]
  },
  {
   "cell_type": "code",
   "execution_count": 151,
   "metadata": {},
   "outputs": [],
   "source": [
    "### TRAINGING AND TESTING DATA\n",
    "train_desc = X = desc_idx[0]\n",
    "test_desc = desc_idx[1]\n",
    "Y = label"
   ]
  },
  {
   "cell_type": "code",
   "execution_count": 152,
   "metadata": {},
   "outputs": [
    {
     "name": "stdout",
     "output_type": "stream",
     "text": [
      "distribution of test:\n",
      "(5566,)\n",
      "max is: 1498  min is:  1\n"
     ]
    },
    {
     "data": {
      "text/plain": [
       "{'0.0': 5,\n",
       " '1.0': 176,\n",
       " '2.0': 451,\n",
       " '3.0': 986,\n",
       " '4.0': 25,\n",
       " '5.0': 32,\n",
       " '6.0': 28,\n",
       " '7.0': 365,\n",
       " '8.0': 32,\n",
       " '9.0': 50,\n",
       " '10.0': 851,\n",
       " '11.0': 84,\n",
       " '12.0': 15,\n",
       " '13.0': 4,\n",
       " '14.0': 107,\n",
       " '15.0': 1498,\n",
       " '16.0': 19,\n",
       " '17.0': 12,\n",
       " '18.0': 113,\n",
       " '19.0': 1,\n",
       " '20.0': 60,\n",
       " '21.0': 15,\n",
       " '22.0': 36,\n",
       " '23.0': 70,\n",
       " '24.0': 1,\n",
       " '25.0': 230,\n",
       " '26.0': 28,\n",
       " '27.0': 17,\n",
       " '28.0': 32,\n",
       " '29.0': 2,\n",
       " '30.0': 13,\n",
       " '31.0': 53,\n",
       " '32.0': 108,\n",
       " '33.0': 2,\n",
       " '34.0': 9,\n",
       " '35.0': 36}"
      ]
     },
     "execution_count": 152,
     "metadata": {},
     "output_type": "execute_result"
    },
    {
     "data": {
      "image/png": "[encoded data removed]",
      "text/plain": [
       "<Figure size 432x288 with 1 Axes>"
      ]
     },
     "metadata": {},
     "output_type": "display_data"
    }
   ],
   "source": [
    "print(\"distribution of test:\")\n",
    "plot_distribution(Y,Y,in_numeric=1,get_return=True)"
   ]
  },
  {
   "cell_type": "code",
   "execution_count": null,
   "metadata": {},
   "outputs": [],
   "source": [
    "type(x_train),type(y_train)\n",
    "np.save('x_train.npy',x_train)\n",
    "np.save('x_test.npy',x_test)\n",
    "np.save('y_test.npy',y_test)\n",
    "np.save('y_train.npy',y_train)"
   ]
  },
  {
   "cell_type": "markdown",
   "metadata": {},
   "source": [
    "# MODEL"
   ]
  },
  {
   "cell_type": "code",
   "execution_count": 177,
   "metadata": {},
   "outputs": [],
   "source": [
    "## USING XGBOOST TO CLASSIFY\n",
    "def classifier_xgb( x_train,y_train,x_test,y_test,objective = 'multi:softmax',eta = 0.2,base_score= 0.8,booster='gbtree',n_estimators = 900,max_depth = 70,\n",
    "                    silent = 0,num_class = 36,nrounds  = 1100 ,gamma =  0.01,verbose=1 ,acc = False):\n",
    "\n",
    "    classifier = XGBClassifier(objective = objective ,eta = eta,base_score= base_score,booster= booster,\n",
    "    n_estimators = n_estimators,n_jobs= 4,max_depth = max_depth,num_class = num_class,nrounds  = nrounds ,gamma =  gamma,verbose=verbose )\n",
    "    classifier.fit(x_train,y_train)\n",
    "    if acc == True:\n",
    "        print(\"classifier.score: \",classifier.score(x_test,y_test))\n",
    "        acc(y_test,classifier.predict(x_test))\n",
    "    return classifier, classifier.predict_proba(x_test)"
   ]
  },
  {
   "cell_type": "code",
   "execution_count": 178,
   "metadata": {},
   "outputs": [],
   "source": [
    "def classifier_rangfors(x_train,y_train,x_test,y_test, n_estimators = 900,depth= 50, acc = False):\n",
    "        classifier = RandomForestClassifier(n_jobs= 4,n_estimators= n_estimators,max_depth= depth)\n",
    "        classifier.fit(x_train,y_train)\n",
    "        if acc == True:\n",
    "            print(\"classifier.score: \",classifier.score(x_test,y_test))\n",
    "            acc(y_test,classifier.predict(x_test))\n",
    "        return classifier, classifier.predict_proba(x_test)"
   ]
  },
  {
   "cell_type": "code",
   "execution_count": 140,
   "metadata": {},
   "outputs": [],
   "source": [
    "def predict(x_train,y_train,test_desc,y_TEST):\n",
    "    classifier_xg,proba_xgb = classifier_xgb( x_train,y_train,test_desc,y_test)\n",
    "    classifier_rf,proba_rf = classifier_rangfors( x_train,y_train,test_desc,y_test)\n",
    "    y_pred =[]\n",
    "    for i in range(test_desc.shape[0]):   \n",
    "        y_pred.append(np.argmax(proba_rf[i] + proba_xgb[i]))\n",
    "    y_pred = np.array(y_pred)\n",
    "    return y_pred"
   ]
  },
  {
   "cell_type": "code",
   "execution_count": 153,
   "metadata": {},
   "outputs": [],
   "source": [
    "y_pred = predict(X,Y,test_desc,None)"
   ]
  },
  {
   "cell_type": "code",
   "execution_count": 154,
   "metadata": {},
   "outputs": [
    {
     "name": "stderr",
     "output_type": "stream",
     "text": [
      "/home/ravisingh/anaconda3/lib/python3.7/site-packages/ipykernel_launcher.py:6: RuntimeWarning: invalid value encountered in true_divide\n",
      "  \n",
      "/home/ravisingh/anaconda3/lib/python3.7/site-packages/sklearn/metrics/classification.py:1437: UndefinedMetricWarning: Precision and F-score are ill-defined and being set to 0.0 in labels with no predicted samples.\n",
      "  'precision', 'predicted', average, warn_for)\n"
     ]
    },
    {
     "name": "stdout",
     "output_type": "stream",
     "text": [
      "\n",
      " clasification report:\n",
      "               precision    recall  f1-score   support\n",
      "\n",
      "           0       1.00      1.00      1.00         1\n",
      "           1       0.95      0.95      0.95        78\n",
      "           2       0.99      0.99      0.99       201\n",
      "           3       0.98      0.99      0.98       457\n",
      "           4       1.00      0.90      0.95        10\n",
      "           5       0.87      1.00      0.93        13\n",
      "           6       0.87      1.00      0.93        13\n",
      "           7       0.96      1.00      0.98       150\n",
      "           8       0.94      0.80      0.86        20\n",
      "           9       0.93      0.90      0.91        29\n",
      "          10       0.99      0.99      0.99       402\n",
      "          11       0.97      0.94      0.95        31\n",
      "          12       1.00      1.00      1.00         3\n",
      "          14       0.98      0.98      0.98        55\n",
      "          15       0.99      1.00      0.99       651\n",
      "          16       1.00      1.00      1.00         7\n",
      "          17       0.00      0.00      0.00         1\n",
      "          18       0.96      1.00      0.98        46\n",
      "          20       0.89      0.89      0.89        28\n",
      "          21       0.80      0.80      0.80         5\n",
      "          22       1.00      0.81      0.90        16\n",
      "          23       1.00      0.88      0.94        34\n",
      "          25       0.97      0.97      0.97        79\n",
      "          26       1.00      0.73      0.84        11\n",
      "          27       1.00      0.75      0.86        12\n",
      "          28       1.00      0.94      0.97        17\n",
      "          30       1.00      0.50      0.67         2\n",
      "          31       0.91      0.91      0.91        11\n",
      "          32       0.92      0.90      0.91        51\n",
      "          35       1.00      0.92      0.96        12\n",
      "\n",
      "    accuracy                           0.98      2446\n",
      "   macro avg       0.93      0.88      0.90      2446\n",
      "weighted avg       0.98      0.98      0.98      2446\n",
      "\n"
     ]
    },
    {
     "data": {
      "image/png": "[encoded data removed]",
      "text/plain": [
       "<Figure size 432x288 with 2 Axes>"
      ]
     },
     "metadata": {},
     "output_type": "display_data"
    }
   ],
   "source": [
    "acc(y_TEST,y_pred)"
   ]
  },
  {
   "cell_type": "code",
   "execution_count": 155,
   "metadata": {},
   "outputs": [],
   "source": [
    "getting_submission_file(\"submission/no_sampling_file_sub.csv\",y_pred.reshape(1,y_pred.shape[0]))"
   ]
  },
  {
   "cell_type": "markdown",
   "metadata": {},
   "source": [
    "## UNDERSAMPLING"
   ]
  },
  {
   "cell_type": "code",
   "execution_count": 156,
   "metadata": {},
   "outputs": [],
   "source": [
    "base_line = 80"
   ]
  },
  {
   "cell_type": "code",
   "execution_count": 157,
   "metadata": {},
   "outputs": [],
   "source": [
    "def under_sampling(base_line,label_conversion,train_csv):  \n",
    "    undsam = []\n",
    "    scor = {}\n",
    "    for i in label_conversion.values():\n",
    "        scor[i]= 0\n",
    "    for i in range(train_csv.shape[0]):\n",
    "        if scor[str(train_csv.iloc[i,-1])]<base_line:\n",
    "            scor[str(train_csv.iloc[i,-1])] +=1\n",
    "            undsam.append(np.array(train_csv.iloc[i,:]))\n",
    "    undsam_ = pd.DataFrame(undsam)\n",
    "    return undsam_"
   ]
  },
  {
   "cell_type": "code",
   "execution_count": 158,
   "metadata": {},
   "outputs": [
    {
     "data": {
      "text/html": [
       "<div>\n",
       "<style scoped>\n",
       "    .dataframe tbody tr th:only-of-type {\n",
       "        vertical-align: middle;\n",
       "    }\n",
       "\n",
       "    .dataframe tbody tr th {\n",
       "        vertical-align: top;\n",
       "    }\n",
       "\n",
       "    .dataframe thead th {\n",
       "        text-align: right;\n",
       "    }\n",
       "</style>\n",
       "<table border=\"1\" class=\"dataframe\">\n",
       "  <thead>\n",
       "    <tr style=\"text-align: right;\">\n",
       "      <th></th>\n",
       "      <th>0</th>\n",
       "      <th>1</th>\n",
       "      <th>2</th>\n",
       "      <th>3</th>\n",
       "      <th>4</th>\n",
       "      <th>5</th>\n",
       "    </tr>\n",
       "  </thead>\n",
       "  <tbody>\n",
       "    <tr>\n",
       "      <th>0</th>\n",
       "      <td>15001</td>\n",
       "      <td>VENDOR-1676</td>\n",
       "      <td>GL-6100410</td>\n",
       "      <td>83.24</td>\n",
       "      <td>Artworking/Typesetting Production Jun 2009 Cha...</td>\n",
       "      <td>CLASS-1963</td>\n",
       "    </tr>\n",
       "    <tr>\n",
       "      <th>1</th>\n",
       "      <td>15002</td>\n",
       "      <td>VENDOR-1883</td>\n",
       "      <td>GL-2182000</td>\n",
       "      <td>51.18</td>\n",
       "      <td>Auto Leasing Corporate Services Corning Inc /N...</td>\n",
       "      <td>CLASS-1250</td>\n",
       "    </tr>\n",
       "    <tr>\n",
       "      <th>2</th>\n",
       "      <td>15004</td>\n",
       "      <td>VENDOR-1999</td>\n",
       "      <td>GL-6050100</td>\n",
       "      <td>79.02</td>\n",
       "      <td>Store Management Lease/Rent Deltona Corp Real ...</td>\n",
       "      <td>CLASS-1274</td>\n",
       "    </tr>\n",
       "    <tr>\n",
       "      <th>3</th>\n",
       "      <td>15005</td>\n",
       "      <td>VENDOR-1771</td>\n",
       "      <td>GL-6101400</td>\n",
       "      <td>48.50</td>\n",
       "      <td>Store Construction General Requirements Coloni...</td>\n",
       "      <td>CLASS-1522</td>\n",
       "    </tr>\n",
       "    <tr>\n",
       "      <th>4</th>\n",
       "      <td>15006</td>\n",
       "      <td>VENDOR-1331</td>\n",
       "      <td>GL-2182000</td>\n",
       "      <td>63.35</td>\n",
       "      <td>Jul 2015 Aydin Corp Contingent Labor/Temp Labo...</td>\n",
       "      <td>CLASS-1376</td>\n",
       "    </tr>\n",
       "  </tbody>\n",
       "</table>\n",
       "</div>"
      ],
      "text/plain": [
       "       0            1           2      3  \\\n",
       "0  15001  VENDOR-1676  GL-6100410  83.24   \n",
       "1  15002  VENDOR-1883  GL-2182000  51.18   \n",
       "2  15004  VENDOR-1999  GL-6050100  79.02   \n",
       "3  15005  VENDOR-1771  GL-6101400  48.50   \n",
       "4  15006  VENDOR-1331  GL-2182000  63.35   \n",
       "\n",
       "                                                   4           5  \n",
       "0  Artworking/Typesetting Production Jun 2009 Cha...  CLASS-1963  \n",
       "1  Auto Leasing Corporate Services Corning Inc /N...  CLASS-1250  \n",
       "2  Store Management Lease/Rent Deltona Corp Real ...  CLASS-1274  \n",
       "3  Store Construction General Requirements Coloni...  CLASS-1522  \n",
       "4  Jul 2015 Aydin Corp Contingent Labor/Temp Labo...  CLASS-1376  "
      ]
     },
     "execution_count": 158,
     "metadata": {},
     "output_type": "execute_result"
    }
   ],
   "source": [
    "undsam_ = under_sampling(base_line,label_conversion,train_csv)\n",
    "under_sampling(base_line,label_conversion,train_csv).head()"
   ]
  },
  {
   "cell_type": "code",
   "execution_count": 159,
   "metadata": {},
   "outputs": [
    {
     "data": {
      "text/plain": [
       "(2916, 28, 2, 2, (1477, 28), (2446, 28))"
      ]
     },
     "execution_count": 159,
     "metadata": {},
     "output_type": "execute_result"
    }
   ],
   "source": [
    "vocabulary, maxi_desc , descriptions, word_change , desc_idx = Item_desc_preprocessing(undsam_,test_csv,4)\n",
    "len(vocabulary), maxi_desc, len(descriptions),len(word_change),desc_idx[0].shape, desc_idx[1].shape"
   ]
  },
  {
   "cell_type": "code",
   "execution_count": 160,
   "metadata": {},
   "outputs": [],
   "source": [
    "label , OHE, label_conv= get_label(undsam_)"
   ]
  },
  {
   "cell_type": "code",
   "execution_count": 162,
   "metadata": {},
   "outputs": [],
   "source": [
    "### TRAINGING AND TESTING DATA\n",
    "train_desc = X = desc_idx[0]\n",
    "test_desc = desc_idx[1]\n",
    "Y = label"
   ]
  },
  {
   "cell_type": "code",
   "execution_count": 163,
   "metadata": {
    "scrolled": true
   },
   "outputs": [
    {
     "name": "stdout",
     "output_type": "stream",
     "text": [
      "distribution of train:\n",
      "(1477,)\n",
      "max is: 80  min is:  1\n"
     ]
    },
    {
     "data": {
      "text/plain": [
       "{'0.0': 5,\n",
       " '1.0': 80,\n",
       " '2.0': 80,\n",
       " '3.0': 80,\n",
       " '4.0': 25,\n",
       " '5.0': 32,\n",
       " '6.0': 28,\n",
       " '7.0': 80,\n",
       " '8.0': 32,\n",
       " '9.0': 50,\n",
       " '10.0': 80,\n",
       " '11.0': 80,\n",
       " '12.0': 15,\n",
       " '13.0': 4,\n",
       " '14.0': 80,\n",
       " '15.0': 80,\n",
       " '16.0': 19,\n",
       " '17.0': 12,\n",
       " '18.0': 80,\n",
       " '19.0': 1,\n",
       " '20.0': 60,\n",
       " '21.0': 15,\n",
       " '22.0': 36,\n",
       " '23.0': 70,\n",
       " '24.0': 1,\n",
       " '25.0': 80,\n",
       " '26.0': 28,\n",
       " '27.0': 17,\n",
       " '28.0': 32,\n",
       " '29.0': 2,\n",
       " '30.0': 13,\n",
       " '31.0': 53,\n",
       " '32.0': 80,\n",
       " '33.0': 2,\n",
       " '34.0': 9,\n",
       " '35.0': 36}"
      ]
     },
     "execution_count": 163,
     "metadata": {},
     "output_type": "execute_result"
    },
    {
     "data": {
      "image/png": "[encoded data removed]",
      "text/plain": [
       "<Figure size 432x288 with 1 Axes>"
      ]
     },
     "metadata": {},
     "output_type": "display_data"
    }
   ],
   "source": [
    "print(\"distribution of train:\")\n",
    "plot_distribution(label,label,in_numeric=1,get_return=True)"
   ]
  },
  {
   "cell_type": "code",
   "execution_count": 164,
   "metadata": {},
   "outputs": [],
   "source": [
    "y_pred = predict(X,Y,test_desc,None)"
   ]
  },
  {
   "cell_type": "code",
   "execution_count": 165,
   "metadata": {},
   "outputs": [
    {
     "name": "stdout",
     "output_type": "stream",
     "text": [
      "\n",
      " clasification report:\n",
      "               precision    recall  f1-score   support\n",
      "\n",
      "           0       1.00      1.00      1.00         1\n",
      "           1       0.95      0.95      0.95        78\n",
      "           2       0.95      0.99      0.97       201\n",
      "           3       0.99      0.94      0.96       457\n",
      "           4       0.80      0.80      0.80        10\n",
      "           5       0.60      0.92      0.73        13\n",
      "           6       0.81      1.00      0.90        13\n",
      "           7       0.97      0.96      0.97       150\n",
      "           8       0.94      0.75      0.83        20\n",
      "           9       0.87      0.90      0.88        29\n",
      "          10       1.00      0.91      0.95       402\n",
      "          11       0.91      0.97      0.94        31\n",
      "          12       1.00      1.00      1.00         3\n",
      "          14       0.88      0.84      0.86        55\n",
      "          15       1.00      1.00      1.00       651\n",
      "          16       0.86      0.86      0.86         7\n",
      "          17       0.00      0.00      0.00         1\n",
      "          18       1.00      0.93      0.97        46\n",
      "          20       0.79      0.96      0.87        28\n",
      "          21       1.00      1.00      1.00         5\n",
      "          22       0.61      0.88      0.72        16\n",
      "          23       0.92      0.97      0.94        34\n",
      "          25       0.95      0.97      0.96        79\n",
      "          26       0.41      0.82      0.55        11\n",
      "          27       0.77      0.83      0.80        12\n",
      "          28       0.80      0.94      0.86        17\n",
      "          30       1.00      1.00      1.00         2\n",
      "          31       0.79      1.00      0.88        11\n",
      "          32       0.83      0.96      0.89        51\n",
      "          35       0.92      0.92      0.92        12\n",
      "\n",
      "    accuracy                           0.95      2446\n",
      "   macro avg       0.84      0.90      0.86      2446\n",
      "weighted avg       0.96      0.95      0.95      2446\n",
      "\n"
     ]
    },
    {
     "data": {
      "image/png": "[encoded data removed]",
      "text/plain": [
       "<Figure size 432x288 with 2 Axes>"
      ]
     },
     "metadata": {},
     "output_type": "display_data"
    }
   ],
   "source": [
    "acc(y_TEST,y_pred)"
   ]
  },
  {
   "cell_type": "code",
   "execution_count": 167,
   "metadata": {},
   "outputs": [],
   "source": [
    "getting_submission_file(\"submission/under_sampling.csv\",y_pred.reshape(1,y_pred.shape[0]))"
   ]
  },
  {
   "cell_type": "markdown",
   "metadata": {},
   "source": [
    "## OVERSAMPLING"
   ]
  },
  {
   "cell_type": "code",
   "execution_count": 168,
   "metadata": {},
   "outputs": [],
   "source": [
    "base_line = 500"
   ]
  },
  {
   "cell_type": "code",
   "execution_count": 169,
   "metadata": {},
   "outputs": [],
   "source": [
    "def over_sampling(base_line,label_conversion,train_csv):  \n",
    "    ovrsamp = []\n",
    "    scor = {}\n",
    "    for i in label_conversion.values():\n",
    "        scor[i]= 0\n",
    "    for i in range(train_csv.shape[0]):\n",
    "        if scor[str(train_csv.iloc[i,-1])] < base_line + 250:\n",
    "            scor[str(train_csv.iloc[i,-1])] +=1\n",
    "            ovrsamp.append(np.array(train_csv.iloc[i,:]))\n",
    "    ovrsamp_ = pd.DataFrame(ovrsamp)\n",
    "    return ovrsamp_"
   ]
  },
  {
   "cell_type": "code",
   "execution_count": 170,
   "metadata": {},
   "outputs": [
    {
     "data": {
      "text/plain": [
       "(array(['CLASS-1248', 'CLASS-1249', 'CLASS-1250', 'CLASS-1274',\n",
       "        'CLASS-1294', 'CLASS-1309', 'CLASS-1322', 'CLASS-1376',\n",
       "        'CLASS-1429', 'CLASS-1477', 'CLASS-1522', 'CLASS-1567',\n",
       "        'CLASS-1652', 'CLASS-1688', 'CLASS-1721', 'CLASS-1758',\n",
       "        'CLASS-1770', 'CLASS-1805', 'CLASS-1828', 'CLASS-1838',\n",
       "        'CLASS-1850', 'CLASS-1867', 'CLASS-1870', 'CLASS-1919',\n",
       "        'CLASS-1957', 'CLASS-1963', 'CLASS-1964', 'CLASS-1983',\n",
       "        'CLASS-2003', 'CLASS-2015', 'CLASS-2038', 'CLASS-2112',\n",
       "        'CLASS-2141', 'CLASS-2146', 'CLASS-2152', 'CLASS-2241'],\n",
       "       dtype=object),\n",
       " array([  5, 176, 451, 750,  25,  32,  28, 365,  32,  50, 750,  84,  15,\n",
       "          4, 107, 750,  19,  12, 113,   1,  60,  15,  36,  70,   1, 230,\n",
       "         28,  17,  32,   2,  13,  53, 108,   2,   9,  36]),\n",
       " (4481, 6))"
      ]
     },
     "execution_count": 170,
     "metadata": {},
     "output_type": "execute_result"
    }
   ],
   "source": [
    "train_csv1 = over_sampling(base_line,label_conversion,train_csv)\n",
    "uni,  count = np.unique(np.array(over_sampling(base_line,label_conversion,train_csv).iloc[:,-1]),return_counts = True)\n",
    "uni, count,train_csv1.shape"
   ]
  },
  {
   "cell_type": "code",
   "execution_count": 171,
   "metadata": {},
   "outputs": [],
   "source": [
    "def duplicating_categories(uni, count,csv,base_line,label_conversion):\n",
    "    array_dataset = np.array(over_sampling(base_line,label_conversion,csv))\n",
    "    lif = list()\n",
    "    print(array_dataset.shape)\n",
    "    for categ in range(uni.shape[0]):\n",
    "        if count[categ] <  base_line:\n",
    "            times_addition= base_line // count[categ] \n",
    "            add_data = np.array(csv[csv.iloc[:,-1] == uni[categ]])\n",
    "            for x in range(times_addition):\n",
    "                array_dataset = np.concatenate((array_dataset,add_data))\n",
    "    return array_dataset"
   ]
  },
  {
   "cell_type": "code",
   "execution_count": 172,
   "metadata": {},
   "outputs": [
    {
     "name": "stdout",
     "output_type": "stream",
     "text": [
      "(4481, 6)\n"
     ]
    },
    {
     "data": {
      "text/plain": [
       "(20074, 6)"
      ]
     },
     "execution_count": 172,
     "metadata": {},
     "output_type": "execute_result"
    }
   ],
   "source": [
    "train_data_oversam = duplicating_categories(uni, count,train_csv,base_line,label_conversion)\n",
    "train_data_oversam.shape"
   ]
  },
  {
   "cell_type": "code",
   "execution_count": 173,
   "metadata": {},
   "outputs": [
    {
     "data": {
      "text/plain": [
       "(2916, 28, 2, 2, (20074, 28), (2446, 28))"
      ]
     },
     "execution_count": 173,
     "metadata": {},
     "output_type": "execute_result"
    }
   ],
   "source": [
    "vocabulary, maxi_desc , descriptions, word_change , desc_idx = Item_desc_preprocessing(pd.DataFrame(train_data_oversam),test_csv,4)\n",
    "len(vocabulary), maxi_desc, len(descriptions),len(word_change),desc_idx[0].shape, desc_idx[1].shape"
   ]
  },
  {
   "cell_type": "code",
   "execution_count": 174,
   "metadata": {},
   "outputs": [],
   "source": [
    "label , OHE, label_conv= get_label(pd.DataFrame(train_data_oversam))"
   ]
  },
  {
   "cell_type": "code",
   "execution_count": 180,
   "metadata": {},
   "outputs": [],
   "source": [
    "### TRAINGING AND TESTING DATA\n",
    "train_desc = X = desc_idx[0]\n",
    "test_desc = desc_idx[1]\n",
    "Y = label"
   ]
  },
  {
   "cell_type": "code",
   "execution_count": 70,
   "metadata": {},
   "outputs": [
    {
     "name": "stdout",
     "output_type": "stream",
     "text": [
      "distribution of train:\n",
      "(16059,)\n",
      "max is: 729  min is:  389\n"
     ]
    },
    {
     "data": {
      "image/png": "[encoded data removed]",
      "text/plain": [
       "<Figure size 432x288 with 1 Axes>"
      ]
     },
     "metadata": {},
     "output_type": "display_data"
    }
   ],
   "source": [
    "print(\"distribution of train:\")\n",
    "plot_distribution(y_train,y_train,in_numeric=2)"
   ]
  },
  {
   "cell_type": "code",
   "execution_count": 181,
   "metadata": {},
   "outputs": [],
   "source": [
    "y_pred = predict(X,Y,test_desc,None)"
   ]
  },
  {
   "cell_type": "code",
   "execution_count": 182,
   "metadata": {},
   "outputs": [
    {
     "name": "stderr",
     "output_type": "stream",
     "text": [
      "/home/ravisingh/anaconda3/lib/python3.7/site-packages/ipykernel_launcher.py:6: RuntimeWarning: invalid value encountered in true_divide\n",
      "  \n",
      "/home/ravisingh/anaconda3/lib/python3.7/site-packages/sklearn/metrics/classification.py:1437: UndefinedMetricWarning: Precision and F-score are ill-defined and being set to 0.0 in labels with no predicted samples.\n",
      "  'precision', 'predicted', average, warn_for)\n"
     ]
    },
    {
     "name": "stdout",
     "output_type": "stream",
     "text": [
      "\n",
      " clasification report:\n",
      "               precision    recall  f1-score   support\n",
      "\n",
      "           0       1.00      1.00      1.00         1\n",
      "           1       0.99      0.96      0.97        78\n",
      "           2       0.99      1.00      0.99       201\n",
      "           3       0.99      0.99      0.99       457\n",
      "           4       1.00      0.90      0.95        10\n",
      "           5       0.80      0.92      0.86        13\n",
      "           6       0.93      1.00      0.96        13\n",
      "           7       1.00      0.99      1.00       150\n",
      "           8       1.00      0.95      0.97        20\n",
      "           9       0.93      0.97      0.95        29\n",
      "          10       1.00      1.00      1.00       402\n",
      "          11       0.94      0.94      0.94        31\n",
      "          12       1.00      1.00      1.00         3\n",
      "          14       0.98      0.98      0.98        55\n",
      "          15       1.00      1.00      1.00       651\n",
      "          16       1.00      1.00      1.00         7\n",
      "          17       0.00      0.00      0.00         1\n",
      "          18       1.00      0.98      0.99        46\n",
      "          20       0.96      0.96      0.96        28\n",
      "          21       1.00      1.00      1.00         5\n",
      "          22       1.00      1.00      1.00        16\n",
      "          23       1.00      1.00      1.00        34\n",
      "          25       0.98      1.00      0.99        79\n",
      "          26       1.00      0.82      0.90        11\n",
      "          27       1.00      0.92      0.96        12\n",
      "          28       1.00      0.94      0.97        17\n",
      "          30       1.00      1.00      1.00         2\n",
      "          31       1.00      1.00      1.00        11\n",
      "          32       0.96      1.00      0.98        51\n",
      "          35       1.00      1.00      1.00        12\n",
      "\n",
      "    accuracy                           0.99      2446\n",
      "   macro avg       0.95      0.94      0.94      2446\n",
      "weighted avg       0.99      0.99      0.99      2446\n",
      "\n"
     ]
    },
    {
     "data": {
      "image/png": "[encoded data removed]",
      "text/plain": [
       "<Figure size 432x288 with 2 Axes>"
      ]
     },
     "metadata": {},
     "output_type": "display_data"
    }
   ],
   "source": [
    "acc(y_TEST,y_pred)"
   ]
  },
  {
   "cell_type": "code",
   "execution_count": 183,
   "metadata": {},
   "outputs": [],
   "source": [
    "getting_submission_file(\"submission/over_sampling.csv\",y_pred.reshape(1,y_pred.shape[0]))"
   ]
  },
  {
   "cell_type": "code",
   "execution_count": null,
   "metadata": {},
   "outputs": [],
   "source": []
  }
 ],
 "metadata": {
  "kernelspec": {
   "display_name": "Python 3",
   "language": "python",
   "name": "python3"
  },
  "language_info": {
   "codemirror_mode": {
    "name": "ipython",
    "version": 3
   },
   "file_extension": ".py",
   "mimetype": "text/x-python",
   "name": "python",
   "nbconvert_exporter": "python",
   "pygments_lexer": "ipython3",
   "version": "3.7.3"
  }
 },
 "nbformat": 4,
 "nbformat_minor": 2
}
